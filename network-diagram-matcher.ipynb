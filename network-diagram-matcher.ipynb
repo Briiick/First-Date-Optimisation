{
 "cells": [
  {
   "cell_type": "markdown",
   "id": "965c7b89-2a9e-4e1b-94ee-14c9712ff9cb",
   "metadata": {},
   "source": [
    "# Small Graph Exploration"
   ]
  },
  {
   "cell_type": "code",
   "execution_count": 141,
   "id": "9b536166-23d4-4ef5-8ca0-c5c29d630257",
   "metadata": {},
   "outputs": [
    {
     "data": {
      "text/html": [
       "        <script type=\"text/javascript\">\n",
       "        window.PlotlyConfig = {MathJaxConfig: 'local'};\n",
       "        if (window.MathJax) {MathJax.Hub.Config({SVG: {font: \"STIX-Web\"}});}\n",
       "        if (typeof require !== 'undefined') {\n",
       "        require.undef(\"plotly\");\n",
       "        requirejs.config({\n",
       "            paths: {\n",
       "                'plotly': ['https://cdn.plot.ly/plotly-latest.min']\n",
       "            }\n",
       "        });\n",
       "        require(['plotly'], function(Plotly) {\n",
       "            window._Plotly = Plotly;\n",
       "        });\n",
       "        }\n",
       "        </script>\n",
       "        "
      ]
     },
     "metadata": {},
     "output_type": "display_data"
    }
   ],
   "source": [
    "import plotly.offline as py\n",
    "from plotly.graph_objs import *\n",
    "\n",
    "import community\n",
    "import networkx as nx\n",
    "import colorlover as cl\n",
    "import numpy as np\n",
    "import pickle\n",
    "import matplotlib.pyplot as plt\n",
    "import operator\n",
    "\n",
    "py.init_notebook_mode(connected=True)\n",
    "\n",
    "# This is your Facebook id. It can also be a number\n",
    "CENTRAL_ID = 'f8'"
   ]
  },
  {
   "cell_type": "code",
   "execution_count": 165,
   "id": "86759f23-1a0a-4495-ae5e-55fbb6299b59",
   "metadata": {},
   "outputs": [],
   "source": [
    "friend_graph = {\n",
    "    'f1': ['f2', 'f3', 'f4', 'f6'],\n",
    "    'f2': ['f1', 'f4', 'f5', 'f8'],\n",
    "    'f3': ['f1', 'f4', 'f7', 'f8', 'f9'],\n",
    "    'f4': ['f1', 'f2', 'f3', 'f5', 'f10'],\n",
    "    'f5': ['f2', 'f7', 'f8', 'f4'],\n",
    "    'f6': ['f1', 'f7', 'f8', 'f10'],\n",
    "    'f7': ['f2', 'f6', 'f8'],\n",
    "    'f8': ['f2', 'f3', 'f5', 'f6', 'f7', 'f9'],\n",
    "    'f9': ['f3', 'f8'],\n",
    "    'f10': ['f4', 'f6']\n",
    "}"
   ]
  },
  {
   "cell_type": "code",
   "execution_count": 166,
   "id": "57543e99-fca2-4703-8a1d-209dad3676d7",
   "metadata": {},
   "outputs": [
    {
     "name": "stdout",
     "output_type": "stream",
     "text": [
      "Filtered out 0 items\n"
     ]
    }
   ],
   "source": [
    "# First, we'll clean the edges of the grap\n",
    "edges = []\n",
    "nodes = [CENTRAL_ID]\n",
    "\n",
    "# Only keep friends with at least 2 common friends\n",
    "central_friends = {}\n",
    "\n",
    "for k, v in friend_graph.items():\n",
    "    # This contains the list number of mutual friends.\n",
    "    # Doing len(v) does not work because ometimes instead of returning mutual\n",
    "    # friends, Facebook returns all the person's friends\n",
    "    intersection_size = len(np.intersect1d(list(friend_graph.keys()), v))\n",
    "    if intersection_size > 1:\n",
    "        central_friends[k] = v\n",
    "        \n",
    "print('Filtered out {} items'.format(len(friend_graph.keys()) - len(central_friends.keys())))\n",
    "\n",
    "# Extract edges from graph\n",
    "for k, v in central_friends.items():\n",
    "    for item in v:\n",
    "        if item in central_friends.keys() or item == CENTRAL_ID:\n",
    "            edges.append((k, item))"
   ]
  },
  {
   "cell_type": "code",
   "execution_count": 167,
   "id": "9d02f360-aff3-4ae2-93f5-20d8e6715ffc",
   "metadata": {},
   "outputs": [
    {
     "name": "stdout",
     "output_type": "stream",
     "text": [
      "Added 39 edges\n"
     ]
    }
   ],
   "source": [
    "# Create the graph. \n",
    "# Small reminder: friends are the nodes and friendships are the edges here\n",
    "G = nx.Graph()\n",
    "G.add_nodes_from([CENTRAL_ID])\n",
    "G.add_nodes_from(central_friends.keys())\n",
    "\n",
    "G.add_edges_from(edges)\n",
    "print('Added {} edges'.format(len(edges) ))"
   ]
  },
  {
   "cell_type": "code",
   "execution_count": 168,
   "id": "1c246ba9-940d-4226-9117-b2bba51c5622",
   "metadata": {},
   "outputs": [],
   "source": [
    "pos = nx.spring_layout(G)"
   ]
  },
  {
   "cell_type": "code",
   "execution_count": 169,
   "id": "daca1700-8085-4ca1-a609-1b0891006544",
   "metadata": {},
   "outputs": [],
   "source": [
    "part = community.best_partition(G)"
   ]
  },
  {
   "cell_type": "code",
   "execution_count": 170,
   "id": "e75a22cc-7c26-4b4c-8384-32716fb951c8",
   "metadata": {},
   "outputs": [],
   "source": [
    "# Get a list of all node ids\n",
    "nodeID = G.nodes.keys()"
   ]
  },
  {
   "cell_type": "code",
   "execution_count": 171,
   "id": "1504ff7d-4360-49e1-91de-d07acb4780c7",
   "metadata": {},
   "outputs": [],
   "source": [
    "# The louvain community library returns cluster ids, we have turn them into colors using color lovers\n",
    "\n",
    "colors = cl.scales['12']['qual']['Paired']\n",
    "\n",
    "def scatter_nodes(pos, labels=None, color='rgb(152, 0, 0)', size=8, opacity=1):\n",
    "    # pos is the dict of node positions\n",
    "    # labels is a list  of labels of len(pos), to be displayed when hovering the mouse over the nodes\n",
    "    # color is the color for nodes. When it is set as None the Plotly default color is used\n",
    "    # size is the size of the dots representing the nodes\n",
    "    # opacity is a value between [0,1] defining the node color opacity\n",
    "\n",
    "    trace = Scatter(x=[], \n",
    "                    y=[],  \n",
    "                    mode='markers', \n",
    "                    marker=Marker(\n",
    "        showscale=False,\n",
    "        colorscale='Greens',\n",
    "        reversescale=True,\n",
    "        color=[], \n",
    "        size=10,\n",
    "    line=dict(width=0)))\n",
    "    for nd in nodeID:\n",
    "        trace['x'].append(pos[nd][0])\n",
    "        trace['y'].append(pos[nd][1])\n",
    "        color = colors[part[nd] % len(colors)]\n",
    "        trace['marker']['color'].append(color)\n",
    "    attrib=dict(name='', text=labels , hoverinfo='text', opacity=opacity) # a dict of Plotly node attributes\n",
    "    trace=dict(trace, **attrib)# concatenate the dict trace and attrib\n",
    "    trace['marker']['size']=size\n",
    "\n",
    "    return trace"
   ]
  },
  {
   "cell_type": "code",
   "execution_count": 172,
   "id": "74b458cf-d395-4bda-af70-67593bbcfafc",
   "metadata": {},
   "outputs": [],
   "source": [
    "def scatter_edges(G, pos, line_color='#a3a3c2', line_width=1, opacity=.2):\n",
    "    trace = Scatter(x=[], \n",
    "                    y=[], \n",
    "                    mode='lines'\n",
    "                   )\n",
    "    for edge in G.edges():\n",
    "        trace['x'] += [pos[edge[0]][0],pos[edge[1]][0], None]\n",
    "        trace['y'] += [pos[edge[0]][1],pos[edge[1]][1], None]  \n",
    "        trace['hoverinfo']='none'\n",
    "        trace['line']['width']=line_width\n",
    "        if line_color is not None: # when it is None a default Plotly color is used\n",
    "            trace['line']['color']=line_color\n",
    "    return trace"
   ]
  },
  {
   "cell_type": "code",
   "execution_count": 173,
   "id": "4a66c3fe-18ef-442f-9c1a-527e5f46f0ea",
   "metadata": {},
   "outputs": [],
   "source": [
    "# Node label information available on hover. Note that some html tags such as line break <br> are recognized within a string.\n",
    "labels = []\n",
    "\n",
    "for nd in nodeID:\n",
    "      labels.append('{} ({})'.format(nd, part[nd],))"
   ]
  },
  {
   "cell_type": "code",
   "execution_count": 174,
   "id": "57b4bd64-e622-41e4-a95f-8ced11c11d80",
   "metadata": {},
   "outputs": [
    {
     "data": {
      "image/png": "[encoded data removed]",
      "text/plain": [
       "<Figure size 432x288 with 1 Axes>"
      ]
     },
     "metadata": {},
     "output_type": "display_data"
    }
   ],
   "source": [
    "nx.draw_networkx(G)"
   ]
  },
  {
   "cell_type": "code",
   "execution_count": 175,
   "id": "824e8df0-1643-46a3-a0fa-2b7332ce3dd9",
   "metadata": {},
   "outputs": [
    {
     "name": "stdout",
     "output_type": "stream",
     "text": [
      "['f1', 'f2', 'f5']\n",
      "2\n"
     ]
    }
   ],
   "source": [
    "sp = dict(nx.all_pairs_shortest_path(G))\n",
    "spl = dict(nx.all_pairs_shortest_path_length(G))\n",
    "print(sp['f1']['f5'])\n",
    "print(spl['f6']['f4'])"
   ]
  },
  {
   "cell_type": "code",
   "execution_count": 176,
   "id": "1114b6de-eb8d-4ea8-a432-9c4279305efd",
   "metadata": {},
   "outputs": [
    {
     "name": "stdout",
     "output_type": "stream",
     "text": [
      "{'f3': 0, 'f1': 1, 'f4': 1, 'f8': 1, 'f9': 1, 'f7': 1, 'f2': 2, 'f5': 2, 'f6': 2, 'f10': 2}\n"
     ]
    }
   ],
   "source": [
    "print(spl['f3'])"
   ]
  },
  {
   "cell_type": "code",
   "execution_count": 182,
   "id": "71b83377-64f1-4264-af06-f1cd9d7d94b8",
   "metadata": {},
   "outputs": [
    {
     "data": {
      "image/png": "[encoded data removed]",
      "text/plain": [
       "<Figure size 1152x720 with 1 Axes>"
      ]
     },
     "metadata": {
      "needs_background": "light"
     },
     "output_type": "display_data"
    }
   ],
   "source": [
    "plt.figure(figsize=(16,10))\n",
    "for data_dict in spl.values():\n",
    "    x = data_dict.keys()\n",
    "    y = data_dict.values()\n",
    "    plt.scatter(x,y)\n",
    "plt.legend(spl.keys())\n",
    "plt.show()"
   ]
  },
  {
   "cell_type": "code",
   "execution_count": 183,
   "id": "04706b1a-8f33-4480-ac5b-1a5b2539f2bf",
   "metadata": {},
   "outputs": [
    {
     "name": "stdout",
     "output_type": "stream",
     "text": [
      "f1\n",
      "f4\n",
      "f2\n",
      "f6\n",
      "f3\n",
      "f5\n",
      "f8\n",
      "f9\n",
      "f10\n",
      "f7\n"
     ]
    }
   ],
   "source": [
    "for k,v in spl['f1'].items():\n",
    "    print(k)"
   ]
  },
  {
   "cell_type": "code",
   "execution_count": 198,
   "id": "4e983105-7b48-4959-aa36-f2e80e1839ba",
   "metadata": {},
   "outputs": [],
   "source": [
    "# take any node\n",
    "# and find the nodes that are 2nd degree connections from it\n",
    "\n",
    "def find_second_deg(selected_node):\n",
    "    \n",
    "    potential_matches = []\n",
    "    closeness_dict = {}\n",
    "    for k, v in spl[selected_node].items():\n",
    "        if v == 2:\n",
    "            # create list of node names\n",
    "            potential_matches.append(k)\n",
    "        if v == 1 or v == 2:\n",
    "            closeness_dict[k] = v\n",
    "    return potential_matches, closeness_dict"
   ]
  },
  {
   "cell_type": "code",
   "execution_count": 199,
   "id": "f6667b4e-c7e8-4599-bea9-c6ab26ec81bb",
   "metadata": {},
   "outputs": [],
   "source": [
    "selected_node = 'f1'\n",
    "potential_matches, closeness_dict = find_second_deg(selected_node)"
   ]
  },
  {
   "cell_type": "code",
   "execution_count": 200,
   "id": "2e1d51af-1f47-464c-909a-fc45f341a61b",
   "metadata": {},
   "outputs": [
    {
     "data": {
      "text/plain": [
       "{'f4': 1,\n",
       " 'f2': 1,\n",
       " 'f6': 1,\n",
       " 'f3': 1,\n",
       " 'f5': 2,\n",
       " 'f8': 2,\n",
       " 'f9': 2,\n",
       " 'f10': 2,\n",
       " 'f7': 2}"
      ]
     },
     "execution_count": 200,
     "metadata": {},
     "output_type": "execute_result"
    }
   ],
   "source": [
    "closeness_dict"
   ]
  },
  {
   "cell_type": "code",
   "execution_count": 201,
   "id": "0cd1f5bb-cf1b-41b1-b91c-a859925338f0",
   "metadata": {},
   "outputs": [],
   "source": [
    "potential_matches\n",
    "# we iterate through our potential matches\n",
    "# counting up the number of 1st or 2nd connections they SHARE\n",
    "# with the selected node, using closeness list as the list of shares\n",
    "# 1 is worth 1.5 points, 2 is worth 1 point.\n",
    "def shared_close_matches(potential_matches, closeness_dict):\n",
    "    \n",
    "    match_dict = {}\n",
    "    \n",
    "    match_counter = 0\n",
    "    # iterate through potential matches\n",
    "    for match in potential_matches:\n",
    "        \n",
    "        # for each match, evaluate closeness to selection\n",
    "        # using closeness_list\n",
    "        if match in closeness_dict.keys():\n",
    "            \n",
    "            if dict(closeness_dict.items())[match] == 1:\n",
    "                match_counter+= 1.5\n",
    "            elif dict(closeness_dict.items())[match] == 2:\n",
    "                match_counter+= 1\n",
    "            \n",
    "            # store match counter\n",
    "            match_dict[match] = match_counter\n",
    "    \n",
    "    return match_dict\n"
   ]
  },
  {
   "cell_type": "code",
   "execution_count": 202,
   "id": "dc3e3e4c-2edc-4d1a-8f95-d2393cfd6bc4",
   "metadata": {},
   "outputs": [
    {
     "name": "stdout",
     "output_type": "stream",
     "text": [
      "{'f5': 1, 'f8': 2, 'f9': 3, 'f10': 4, 'f7': 5}\n"
     ]
    }
   ],
   "source": [
    "stats = shared_close_matches(potential_matches, closeness_dict)\n",
    "print(stats)"
   ]
  },
  {
   "cell_type": "code",
   "execution_count": 203,
   "id": "d4791b71-8989-4179-a8bc-102d9597f1ca",
   "metadata": {},
   "outputs": [
    {
     "data": {
      "text/plain": [
       "'f7'"
      ]
     },
     "execution_count": 203,
     "metadata": {},
     "output_type": "execute_result"
    }
   ],
   "source": [
    "max(stats.items(), key=operator.itemgetter(1))[0]"
   ]
  },
  {
   "cell_type": "code",
   "execution_count": 207,
   "id": "7188778f-a8f2-41e6-9ad0-61da133a08f2",
   "metadata": {},
   "outputs": [],
   "source": [
    "def find_matches_in_order(selected_node):\n",
    "    potential_matches, closeness_dict = find_second_deg(selected_node)\n",
    "    stats = shared_close_matches(potential_matches, closeness_dict)\n",
    "    return stats, max(stats.items(), key=operator.itemgetter(1))[0]"
   ]
  },
  {
   "cell_type": "code",
   "execution_count": 213,
   "id": "885f074d-e6df-4cb4-a078-60053323061e",
   "metadata": {},
   "outputs": [
    {
     "name": "stdout",
     "output_type": "stream",
     "text": [
      "{'f2': 1, 'f4': 2, 'f5': 3, 'f9': 4, 'f3': 5}\n",
      "Best match for f6 is f3\n"
     ]
    }
   ],
   "source": [
    "selected_node = 'f6'\n",
    "stats, best_match = find_matches_in_order(selected_node)\n",
    "print(stats)\n",
    "print('Best match for ' + selected_node + ' is', best_match)"
   ]
  },
  {
   "cell_type": "markdown",
   "id": "47e18f98-fe17-4093-9bac-a415d31ae60d",
   "metadata": {},
   "source": [
    "Just using the layout of the network, we can find the most likely friend that is a good match for our selected user.\n",
    "\n",
    "Note, this is using no user preferences. Ideally we would have independent variables that we could layer on top of this for a more elaborate 'match_counter' or 'elo' would be things like gender, sexual preferences, interests, closeness in proximity, etc."
   ]
  },
  {
   "cell_type": "code",
   "execution_count": null,
   "id": "25dbd5b5-2ee8-4173-9bc7-e7aa3e79679c",
   "metadata": {},
   "outputs": [],
   "source": []
  }
 ],
 "metadata": {
  "kernelspec": {
   "display_name": "Python 3",
   "language": "python",
   "name": "python3"
  },
  "language_info": {
   "codemirror_mode": {
    "name": "ipython",
    "version": 3
   },
   "file_extension": ".py",
   "mimetype": "text/x-python",
   "name": "python",
   "nbconvert_exporter": "python",
   "pygments_lexer": "ipython3",
   "version": "3.8.8"
  }
 },
 "nbformat": 4,
 "nbformat_minor": 5
}